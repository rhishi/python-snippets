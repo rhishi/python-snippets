{
 "cells": [
  {
   "cell_type": "markdown",
   "metadata": {},
   "source": [
    "# Regular Expressions\n",
    "\n",
    "https://docs.python.org/2/library/re.html\n",
    "\n",
    "re.search(pattern, string, flags=0)<br>\n",
    "re.match(pattern, string, flags=0)<br>\n",
    "\n",
    "search and match return MatchObject or None.  Zero-length match is still a MatchObject.\n",
    "\n",
    "https://docs.python.org/2/library/re.html#re.search\n",
    "https://docs.python.org/2/library/re.html#search-vs-match\n",
    "\n",
    "re.match() checks for a match only at the beginning of the string, while re.search() checks for a match anywhere in the string.\n",
    "\n",
    "re.compile(pattern, string, flags=0)\n",
    "\n",
    "https://docs.python.org/2/library/re.html#re.compile\n",
    "\n",
    "prog = re.compile(pattern)\n",
    "result = prog.match(string)\n",
    "\n",
    "flags can be re.I (re.IGNORECASE), re.M (re.MULTILINE), re.S (re.DOTALL), re.X (re.VERBOSE), re.DEBUG\n",
    "\n",
    "re.findall(pattern, string, flags=0)<br>\n",
    "re.finditer(pattern, string, flags=0)\n",
    "\n",
    "re.sub(pattern, repl, string, count=0, flags=0)"
   ]
  },
  {
   "cell_type": "code",
   "execution_count": 1,
   "metadata": {
    "collapsed": true
   },
   "outputs": [],
   "source": [
    "import re"
   ]
  },
  {
   "cell_type": "code",
   "execution_count": 2,
   "metadata": {
    "collapsed": false
   },
   "outputs": [
    {
     "data": {
      "text/plain": [
       "(_sre.SRE_Match, <_sre.SRE_Match at 0x104f8a648>)"
      ]
     },
     "execution_count": 2,
     "metadata": {},
     "output_type": "execute_result"
    }
   ],
   "source": [
    "match = re.match(r'<[a-z0-9]+>', \"<h1>Heading</h1>\")\n",
    "type(match), match"
   ]
  },
  {
   "cell_type": "markdown",
   "metadata": {},
   "source": [
    "https://docs.python.org/2/library/re.html#re.MatchObject"
   ]
  },
  {
   "cell_type": "code",
   "execution_count": 3,
   "metadata": {
    "collapsed": false
   },
   "outputs": [
    {
     "name": "stdout",
     "output_type": "stream",
     "text": [
      "<_sre.SRE_Match object at 0x104f8a648>\n"
     ]
    }
   ],
   "source": [
    "print match"
   ]
  },
  {
   "cell_type": "code",
   "execution_count": 4,
   "metadata": {
    "collapsed": false
   },
   "outputs": [
    {
     "data": {
      "text/plain": [
       "'<h1>'"
      ]
     },
     "execution_count": 4,
     "metadata": {},
     "output_type": "execute_result"
    }
   ],
   "source": [
    "match.group()"
   ]
  },
  {
   "cell_type": "code",
   "execution_count": 5,
   "metadata": {
    "collapsed": false
   },
   "outputs": [
    {
     "data": {
      "text/plain": [
       "'<h1>'"
      ]
     },
     "execution_count": 5,
     "metadata": {},
     "output_type": "execute_result"
    }
   ],
   "source": [
    "match.group(0)"
   ]
  },
  {
   "cell_type": "code",
   "execution_count": null,
   "metadata": {
    "collapsed": true
   },
   "outputs": [],
   "source": []
  },
  {
   "cell_type": "code",
   "execution_count": 6,
   "metadata": {
    "collapsed": false
   },
   "outputs": [
    {
     "data": {
      "text/plain": [
       "'<h1>Heading</h1>'"
      ]
     },
     "execution_count": 6,
     "metadata": {},
     "output_type": "execute_result"
    }
   ],
   "source": [
    "re.match(r'<.*>', \"<h1>Heading</h1>\").group()"
   ]
  },
  {
   "cell_type": "code",
   "execution_count": 7,
   "metadata": {
    "collapsed": false
   },
   "outputs": [
    {
     "data": {
      "text/plain": [
       "'<h1>'"
      ]
     },
     "execution_count": 7,
     "metadata": {},
     "output_type": "execute_result"
    }
   ],
   "source": [
    "re.match(r'<.*?>', \"<h1>Heading</h1>\").group()"
   ]
  },
  {
   "cell_type": "code",
   "execution_count": null,
   "metadata": {
    "collapsed": true
   },
   "outputs": [],
   "source": []
  },
  {
   "cell_type": "code",
   "execution_count": null,
   "metadata": {
    "collapsed": true
   },
   "outputs": [],
   "source": []
  },
  {
   "cell_type": "code",
   "execution_count": null,
   "metadata": {
    "collapsed": true
   },
   "outputs": [],
   "source": []
  },
  {
   "cell_type": "code",
   "execution_count": 8,
   "metadata": {
    "collapsed": false
   },
   "outputs": [],
   "source": [
    "match = re.match(r'(\\w+ \\w+) fox .* (\\w+) dog', \"Quick brown fox jumps over the lazy dog.\")"
   ]
  },
  {
   "cell_type": "code",
   "execution_count": 9,
   "metadata": {
    "collapsed": false
   },
   "outputs": [
    {
     "data": {
      "text/plain": [
       "'Quick brown fox jumps over the lazy dog'"
      ]
     },
     "execution_count": 9,
     "metadata": {},
     "output_type": "execute_result"
    }
   ],
   "source": [
    "match.group(0)"
   ]
  },
  {
   "cell_type": "code",
   "execution_count": 10,
   "metadata": {
    "collapsed": false
   },
   "outputs": [
    {
     "data": {
      "text/plain": [
       "('Quick brown', 'lazy')"
      ]
     },
     "execution_count": 10,
     "metadata": {},
     "output_type": "execute_result"
    }
   ],
   "source": [
    "match.groups()"
   ]
  },
  {
   "cell_type": "code",
   "execution_count": 11,
   "metadata": {
    "collapsed": false
   },
   "outputs": [
    {
     "data": {
      "text/plain": [
       "('Quick brown fox jumps over the lazy dog', 'Quick brown', 'lazy')"
      ]
     },
     "execution_count": 11,
     "metadata": {},
     "output_type": "execute_result"
    }
   ],
   "source": [
    "match.group(0), match.group(1), match.group(2)"
   ]
  },
  {
   "cell_type": "code",
   "execution_count": 12,
   "metadata": {
    "collapsed": false
   },
   "outputs": [
    {
     "ename": "IndexError",
     "evalue": "no such group",
     "output_type": "error",
     "traceback": [
      "\u001b[0;31m---------------------------------------------------------------------------\u001b[0m",
      "\u001b[0;31mIndexError\u001b[0m                                Traceback (most recent call last)",
      "\u001b[0;32m<ipython-input-12-900e71e690ce>\u001b[0m in \u001b[0;36m<module>\u001b[0;34m()\u001b[0m\n\u001b[0;32m----> 1\u001b[0;31m \u001b[0mmatch\u001b[0m\u001b[0;34m.\u001b[0m\u001b[0mgroup\u001b[0m\u001b[0;34m(\u001b[0m\u001b[0;36m43\u001b[0m\u001b[0;34m)\u001b[0m\u001b[0;34m\u001b[0m\u001b[0m\n\u001b[0m",
      "\u001b[0;31mIndexError\u001b[0m: no such group"
     ]
    }
   ],
   "source": [
    "match.group(43)"
   ]
  },
  {
   "cell_type": "code",
   "execution_count": 13,
   "metadata": {
    "collapsed": false
   },
   "outputs": [
    {
     "data": {
      "text/plain": [
       "2"
      ]
     },
     "execution_count": 13,
     "metadata": {},
     "output_type": "execute_result"
    }
   ],
   "source": [
    "match.lastindex"
   ]
  },
  {
   "cell_type": "code",
   "execution_count": 14,
   "metadata": {
    "collapsed": false
   },
   "outputs": [
    {
     "data": {
      "text/plain": [
       "['Quick brown fox jumps over the lazy dog', 'Quick brown', 'lazy']"
      ]
     },
     "execution_count": 14,
     "metadata": {},
     "output_type": "execute_result"
    }
   ],
   "source": [
    "[ match.group(i) for i in range(0, match.lastindex + 1)]"
   ]
  },
  {
   "cell_type": "code",
   "execution_count": 15,
   "metadata": {
    "collapsed": false
   },
   "outputs": [
    {
     "data": {
      "text/plain": [
       "(0, 11)"
      ]
     },
     "execution_count": 15,
     "metadata": {},
     "output_type": "execute_result"
    }
   ],
   "source": [
    "match.start(1), match.end(1)"
   ]
  },
  {
   "cell_type": "code",
   "execution_count": 16,
   "metadata": {
    "collapsed": false
   },
   "outputs": [
    {
     "data": {
      "text/plain": [
       "'Quick brown'"
      ]
     },
     "execution_count": 16,
     "metadata": {},
     "output_type": "execute_result"
    }
   ],
   "source": [
    "match.string[match.start(1):match.end(1)]"
   ]
  },
  {
   "cell_type": "code",
   "execution_count": null,
   "metadata": {
    "collapsed": true
   },
   "outputs": [],
   "source": []
  },
  {
   "cell_type": "code",
   "execution_count": null,
   "metadata": {
    "collapsed": true
   },
   "outputs": [],
   "source": []
  },
  {
   "cell_type": "code",
   "execution_count": null,
   "metadata": {
    "collapsed": true
   },
   "outputs": [],
   "source": []
  },
  {
   "cell_type": "code",
   "execution_count": 17,
   "metadata": {
    "collapsed": false
   },
   "outputs": [
    {
     "name": "stdout",
     "output_type": "stream",
     "text": [
      "No match!\n"
     ]
    }
   ],
   "source": [
    "match = re.match(r'</.*?>', \"<h1>Heading</h1>\")\n",
    "if match:\n",
    "    print match.group()\n",
    "else:\n",
    "    print \"No match!\""
   ]
  },
  {
   "cell_type": "code",
   "execution_count": null,
   "metadata": {
    "collapsed": true
   },
   "outputs": [],
   "source": []
  },
  {
   "cell_type": "code",
   "execution_count": 18,
   "metadata": {
    "collapsed": false
   },
   "outputs": [
    {
     "data": {
      "text/plain": [
       "'</h1>'"
      ]
     },
     "execution_count": 18,
     "metadata": {},
     "output_type": "execute_result"
    }
   ],
   "source": [
    "re.search(r'</.*?>', \"<h1>Heading</h1>\").group()"
   ]
  },
  {
   "cell_type": "code",
   "execution_count": null,
   "metadata": {
    "collapsed": true
   },
   "outputs": [],
   "source": []
  },
  {
   "cell_type": "code",
   "execution_count": 19,
   "metadata": {
    "collapsed": true
   },
   "outputs": [],
   "source": [
    "import requests\n",
    "\n",
    "response = requests.get(r'https://www.google.com/finance?q=NASDAQ%3AINTC')\n",
    "page = response.text"
   ]
  },
  {
   "cell_type": "code",
   "execution_count": 20,
   "metadata": {
    "collapsed": false
   },
   "outputs": [
    {
     "data": {
      "text/plain": [
       "u'<div class=event>\\n<div class=\"bld date\">May 20, 2016</div>'"
      ]
     },
     "execution_count": 20,
     "metadata": {},
     "output_type": "execute_result"
    }
   ],
   "source": [
    "flags = re.MULTILINE | re.DOTALL\n",
    "match = re.search(r'<div class=event>.*?</div>', page, flags)\n",
    "match.group()"
   ]
  },
  {
   "cell_type": "code",
   "execution_count": 21,
   "metadata": {
    "collapsed": false
   },
   "outputs": [
    {
     "data": {
      "text/plain": [
       "u'<div class=event>\\n<div class=\"bld date\">May 20, 2016</div>\\n<div>Intel Corp Annual Shareholders Meeting (Estimated)\\n- <span class=time>11:30AM EDT</span> -\\n<a onclick=\"_GF_click(\\'\\', \\'add_cal_evnt\\', \\'INTC\\', \\'\\')\" href= \"\\n  //www.google.com/calendar/event?ei=iLTtVqnDAcm3igKV-YL4DA&hl=en&action=TEMPLATE&text=Intel+Corp+Annual+Shareholders+Meeting+(Estimated)&dates=20160520T153000Z/20160520T163000Z&sprop=finance\"  class=time>\\n<img alt=\"Add to calendar\" src=\"/finance/s/m4C5KaofCbA/images/cleardot.gif\"\\n                width=16 height=16 class=SP_calendar id=calendar>\\n</a>\\n</div>'"
      ]
     },
     "execution_count": 21,
     "metadata": {},
     "output_type": "execute_result"
    }
   ],
   "source": [
    "match = re.search(r'<div class=event>.*?<div class=\"bld date\">.*?</div>.*?</div>', page, flags)\n",
    "match.group()"
   ]
  },
  {
   "cell_type": "code",
   "execution_count": 22,
   "metadata": {
    "collapsed": false
   },
   "outputs": [
    {
     "data": {
      "text/plain": [
       "u'<div class=event>\\n<div class=\"bld date\">May 20, 2016</div>\\n<div>Intel Corp Annual Shareholders Meeting (Estimated)\\n- <span class=time>11:30AM EDT</span> -\\n<a onclick=\"_GF_click(\\'\\', \\'add_cal_evnt\\', \\'INTC\\', \\'\\')\" href= \"\\n  //www.google.com/calendar/event?ei=iLTtVqnDAcm3igKV-YL4DA&hl=en&action=TEMPLATE&text=Intel+Corp+Annual+Shareholders+Meeting+(Estimated)&dates=20160520T153000Z/20160520T163000Z&sprop=finance\"  class=time>\\n<img alt=\"Add to calendar\" src=\"/finance/s/m4C5KaofCbA/images/cleardot.gif\"\\n                width=16 height=16 class=SP_calendar id=calendar>\\n</a>\\n</div>\\n</div>'"
      ]
     },
     "execution_count": 22,
     "metadata": {},
     "output_type": "execute_result"
    }
   ],
   "source": [
    "match = re.search(r'<div class=event>.*?<div class=\"bld date\">.*?</div>.*?<div>.*?</div>.*?</div>', page, flags)\n",
    "match.group()"
   ]
  },
  {
   "cell_type": "code",
   "execution_count": 23,
   "metadata": {
    "collapsed": true
   },
   "outputs": [],
   "source": [
    "flags |= re.VERBOSE"
   ]
  },
  {
   "cell_type": "code",
   "execution_count": 24,
   "metadata": {
    "collapsed": false
   },
   "outputs": [
    {
     "data": {
      "text/plain": [
       "u'<div class=event>\\n<div class=\"bld date\">May 20, 2016</div>\\n<div>Intel Corp Annual Shareholders Meeting (Estimated)\\n- <span class=time>11:30AM EDT</span> -\\n<a onclick=\"_GF_click(\\'\\', \\'add_cal_evnt\\', \\'INTC\\', \\'\\')\" href= \"\\n  //www.google.com/calendar/event?ei=iLTtVqnDAcm3igKV-YL4DA&hl=en&action=TEMPLATE&text=Intel+Corp+Annual+Shareholders+Meeting+(Estimated)&dates=20160520T153000Z/20160520T163000Z&sprop=finance\"  class=time>\\n<img alt=\"Add to calendar\" src=\"/finance/s/m4C5KaofCbA/images/cleardot.gif\"\\n                width=16 height=16 class=SP_calendar id=calendar>\\n</a>\\n</div>\\n</div>'"
      ]
     },
     "execution_count": 24,
     "metadata": {},
     "output_type": "execute_result"
    }
   ],
   "source": [
    "eventregex = re.compile(r\"\"\"<div\\ class=event>.*?\n",
    "                              <div\\ class=\"bld\\ date\">.*?</div>.*?\n",
    "                              <div>.*?</div>.*?\n",
    "                            </div>\"\"\", flags)\n",
    "match = eventregex.search(page)\n",
    "match.group()"
   ]
  },
  {
   "cell_type": "code",
   "execution_count": 25,
   "metadata": {
    "collapsed": false
   },
   "outputs": [
    {
     "name": "stdout",
     "output_type": "stream",
     "text": [
      "<div class=event>\n",
      "<div class=\"bld date\">May 20, 2016</div>\n",
      "<div>Intel Corp Annual Shareholders Meeting (Estimated)\n",
      "- <span class=time>11:30AM EDT</span> -\n",
      "<a onclick=\"_GF_click('', 'add_cal_evnt', 'INTC', '')\" href= \"\n",
      "  //www.google.com/calendar/event?ei=iLTtVqnDAcm3igKV-YL4DA&hl=en&action=TEMPLATE&text=Intel+Corp+Annual+Shareholders+Meeting+(Estimated)&dates=20160520T153000Z/20160520T163000Z&sprop=finance\"  class=time>\n",
      "<img alt=\"Add to calendar\" src=\"/finance/s/m4C5KaofCbA/images/cleardot.gif\"\n",
      "                width=16 height=16 class=SP_calendar id=calendar>\n",
      "</a>\n",
      "</div>\n",
      "</div>\n"
     ]
    }
   ],
   "source": [
    "print match.group()"
   ]
  },
  {
   "cell_type": "code",
   "execution_count": null,
   "metadata": {
    "collapsed": true
   },
   "outputs": [],
   "source": []
  },
  {
   "cell_type": "code",
   "execution_count": null,
   "metadata": {
    "collapsed": true
   },
   "outputs": [],
   "source": []
  },
  {
   "cell_type": "code",
   "execution_count": 26,
   "metadata": {
    "collapsed": false
   },
   "outputs": [
    {
     "data": {
      "text/plain": [
       "[u'<div class=event>\\n<div class=\"bld date\">May 20, 2016</div>\\n<div>Intel Corp Annual Shareholders Meeting (Estimated)\\n- <span class=time>11:30AM EDT</span> -\\n<a onclick=\"_GF_click(\\'\\', \\'add_cal_evnt\\', \\'INTC\\', \\'\\')\" href= \"\\n  //www.google.com/calendar/event?ei=iLTtVqnDAcm3igKV-YL4DA&hl=en&action=TEMPLATE&text=Intel+Corp+Annual+Shareholders+Meeting+(Estimated)&dates=20160520T153000Z/20160520T163000Z&sprop=finance\"  class=time>\\n<img alt=\"Add to calendar\" src=\"/finance/s/m4C5KaofCbA/images/cleardot.gif\"\\n                width=16 height=16 class=SP_calendar id=calendar>\\n</a>\\n</div>\\n</div>',\n",
       " u'<div class=event>\\n<div class=\"bld date\">Apr 19, 2016</div>\\n<div>Q1 2016 Intel Corp Earnings Call\\n- <span class=time>5:00PM EDT</span> -\\n<a onclick=\"_GF_click(\\'\\', \\'add_cal_evnt\\', \\'INTC\\', \\'\\')\" href= \"\\n  //www.google.com/calendar/event?ei=iLTtVqnDAcm3igKV-YL4DA&hl=en&action=TEMPLATE&text=Q1+2016+Intel+Corp+Earnings+Call&dates=20160419T210000Z/20160419T220000Z&sprop=finance\"  class=time>\\n<img alt=\"Add to calendar\" src=\"/finance/s/m4C5KaofCbA/images/cleardot.gif\"\\n                width=16 height=16 class=SP_calendar id=calendar>\\n</a>\\n</div>\\n</div>',\n",
       " u'<div class=event>\\n<div class=\"bld date\">Apr 19, 2016</div>\\n<div>Q1 2016 Intel Corp Earnings Release\\n- <span class=time>4:00PM EDT</span> -\\n<a onclick=\"_GF_click(\\'\\', \\'add_cal_evnt\\', \\'INTC\\', \\'\\')\" href= \"\\n  //www.google.com/calendar/event?ei=iLTtVqnDAcm3igKV-YL4DA&hl=en&action=TEMPLATE&text=Q1+2016+Intel+Corp+Earnings+Release&dates=20160419T200000Z/20160419T210000Z&sprop=finance\"  class=time>\\n<img alt=\"Add to calendar\" src=\"/finance/s/m4C5KaofCbA/images/cleardot.gif\"\\n                width=16 height=16 class=SP_calendar id=calendar>\\n</a>\\n</div>\\n</div>',\n",
       " u'<div class=event>\\n<div class=\"bld date\">Mar 1, 2016</div>\\n<div>Intel Corp at Morgan Stanley Technology, Media &amp; Telecom Conference\\n</div>\\n</div>',\n",
       " u'<div class=event>\\n<div class=\"bld date\">Feb 22, 2016</div>\\n<div>Intel Corp at GSM Association Mobile World Congress\\n</div>\\n</div>',\n",
       " u'<div class=event>\\n<div class=\"bld date\">Jan 19, 2016</div>\\n<div>Intel Corp Webcast Announcing 6th Generation Intel Core vPro Processors -\\n<a onclick=\"_GF_click(\\'\\', \\'webcast\\', \\'INTC\\', \\'\\')\" href=//www.google.com/url?source=finance&q=http%3A%2F%2Fintelstudios.edgesuite.net%2F150119_event%2Findex.html&ei=iLTtVqnDAcm3igKV-YL4DA&usg=AFQjCNHDYkGZ6y8sFkZQdv5zVEUyQigrhw  class=time>\\n<img alt=\"Webcast\" src=\"/finance/s/m4C5KaofCbA/images/cleardot.gif\"\\n                width=19 height=16 class=SP_webcast id=webcast>\\n</a>\\n</div>\\n</div>',\n",
       " u'<div class=event>\\n<div class=\"bld date\">Jan 14, 2016</div>\\n<div>Q4 2015 Intel Corp Earnings Call\\n</div>\\n</div>',\n",
       " u'<div class=event>\\n<div class=\"bld date\">Jan 14, 2016</div>\\n<div>Q4 2015 Intel Corp Earnings Release\\n</div>\\n</div>',\n",
       " u'<div class=event>\\n<div class=\"bld date\">Jan 6, 2016</div>\\n<div>Intel Corp at JPMorgan Technology Forum\\n</div>\\n</div>']"
      ]
     },
     "execution_count": 26,
     "metadata": {},
     "output_type": "execute_result"
    }
   ],
   "source": [
    "events = eventregex.findall(page)\n",
    "events"
   ]
  },
  {
   "cell_type": "code",
   "execution_count": 27,
   "metadata": {
    "collapsed": false
   },
   "outputs": [
    {
     "data": {
      "text/plain": [
       "[u'<div class=event>\\n<div class=\"bld date\">May 20, 2016</div>\\n<div>Intel Corp Annual Shareholders Meeting (Estimated)\\n- <span class=time>11:30AM EDT</span> -\\n<a onclick=\"_GF_click(\\'\\', \\'add_cal_evnt\\', \\'INTC\\', \\'\\')\" href= \"\\n  //www.google.com/calendar/event?ei=iLTtVqnDAcm3igKV-YL4DA&hl=en&action=TEMPLATE&text=Intel+Corp+Annual+Shareholders+Meeting+(Estimated)&dates=20160520T153000Z/20160520T163000Z&sprop=finance\"  class=time>\\n\\n</a>\\n</div>\\n</div>',\n",
       " u'<div class=event>\\n<div class=\"bld date\">Apr 19, 2016</div>\\n<div>Q1 2016 Intel Corp Earnings Call\\n- <span class=time>5:00PM EDT</span> -\\n<a onclick=\"_GF_click(\\'\\', \\'add_cal_evnt\\', \\'INTC\\', \\'\\')\" href= \"\\n  //www.google.com/calendar/event?ei=iLTtVqnDAcm3igKV-YL4DA&hl=en&action=TEMPLATE&text=Q1+2016+Intel+Corp+Earnings+Call&dates=20160419T210000Z/20160419T220000Z&sprop=finance\"  class=time>\\n\\n</a>\\n</div>\\n</div>',\n",
       " u'<div class=event>\\n<div class=\"bld date\">Apr 19, 2016</div>\\n<div>Q1 2016 Intel Corp Earnings Release\\n- <span class=time>4:00PM EDT</span> -\\n<a onclick=\"_GF_click(\\'\\', \\'add_cal_evnt\\', \\'INTC\\', \\'\\')\" href= \"\\n  //www.google.com/calendar/event?ei=iLTtVqnDAcm3igKV-YL4DA&hl=en&action=TEMPLATE&text=Q1+2016+Intel+Corp+Earnings+Release&dates=20160419T200000Z/20160419T210000Z&sprop=finance\"  class=time>\\n\\n</a>\\n</div>\\n</div>',\n",
       " u'<div class=event>\\n<div class=\"bld date\">Mar 1, 2016</div>\\n<div>Intel Corp at Morgan Stanley Technology, Media &amp; Telecom Conference\\n</div>\\n</div>',\n",
       " u'<div class=event>\\n<div class=\"bld date\">Feb 22, 2016</div>\\n<div>Intel Corp at GSM Association Mobile World Congress\\n</div>\\n</div>',\n",
       " u'<div class=event>\\n<div class=\"bld date\">Jan 19, 2016</div>\\n<div>Intel Corp Webcast Announcing 6th Generation Intel Core vPro Processors -\\n<a onclick=\"_GF_click(\\'\\', \\'webcast\\', \\'INTC\\', \\'\\')\" href=//www.google.com/url?source=finance&q=http%3A%2F%2Fintelstudios.edgesuite.net%2F150119_event%2Findex.html&ei=iLTtVqnDAcm3igKV-YL4DA&usg=AFQjCNHDYkGZ6y8sFkZQdv5zVEUyQigrhw  class=time>\\n\\n</a>\\n</div>\\n</div>',\n",
       " u'<div class=event>\\n<div class=\"bld date\">Jan 14, 2016</div>\\n<div>Q4 2015 Intel Corp Earnings Call\\n</div>\\n</div>',\n",
       " u'<div class=event>\\n<div class=\"bld date\">Jan 14, 2016</div>\\n<div>Q4 2015 Intel Corp Earnings Release\\n</div>\\n</div>',\n",
       " u'<div class=event>\\n<div class=\"bld date\">Jan 6, 2016</div>\\n<div>Intel Corp at JPMorgan Technology Forum\\n</div>\\n</div>']"
      ]
     },
     "execution_count": 27,
     "metadata": {},
     "output_type": "execute_result"
    }
   ],
   "source": [
    "events = [ re.sub(r'<img[^>]*>', '', event, flags) for event in events ]\n",
    "events"
   ]
  },
  {
   "cell_type": "code",
   "execution_count": 28,
   "metadata": {
    "collapsed": false
   },
   "outputs": [
    {
     "data": {
      "text/plain": [
       "[u'<div class=event>\\n<div class=\"bld date\">May 20, 2016</div>\\n<div>Intel Corp Annual Shareholders Meeting (Estimated)\\n- <span class=time>11:30AM EDT</span> -\\n\\n</div>\\n</div>',\n",
       " u'<div class=event>\\n<div class=\"bld date\">Apr 19, 2016</div>\\n<div>Q1 2016 Intel Corp Earnings Call\\n- <span class=time>5:00PM EDT</span> -\\n\\n</div>\\n</div>',\n",
       " u'<div class=event>\\n<div class=\"bld date\">Apr 19, 2016</div>\\n<div>Q1 2016 Intel Corp Earnings Release\\n- <span class=time>4:00PM EDT</span> -\\n\\n</div>\\n</div>',\n",
       " u'<div class=event>\\n<div class=\"bld date\">Mar 1, 2016</div>\\n<div>Intel Corp at Morgan Stanley Technology, Media &amp; Telecom Conference\\n</div>\\n</div>',\n",
       " u'<div class=event>\\n<div class=\"bld date\">Feb 22, 2016</div>\\n<div>Intel Corp at GSM Association Mobile World Congress\\n</div>\\n</div>',\n",
       " u'<div class=event>\\n<div class=\"bld date\">Jan 19, 2016</div>\\n<div>Intel Corp Webcast Announcing 6th Generation Intel Core vPro Processors -\\n\\n</div>\\n</div>',\n",
       " u'<div class=event>\\n<div class=\"bld date\">Jan 14, 2016</div>\\n<div>Q4 2015 Intel Corp Earnings Call\\n</div>\\n</div>',\n",
       " u'<div class=event>\\n<div class=\"bld date\">Jan 14, 2016</div>\\n<div>Q4 2015 Intel Corp Earnings Release\\n</div>\\n</div>',\n",
       " u'<div class=event>\\n<div class=\"bld date\">Jan 6, 2016</div>\\n<div>Intel Corp at JPMorgan Technology Forum\\n</div>\\n</div>']"
      ]
     },
     "execution_count": 28,
     "metadata": {},
     "output_type": "execute_result"
    }
   ],
   "source": [
    "events = [ re.sub(r'<a[^>]*>[^<]*</a>', '', event, flags) for event in events ]\n",
    "events"
   ]
  },
  {
   "cell_type": "code",
   "execution_count": 29,
   "metadata": {
    "collapsed": false
   },
   "outputs": [
    {
     "data": {
      "text/plain": [
       "[u'<div class=event><div class=\"bld date\">May 20, 2016</div><div>Intel Corp Annual Shareholders Meeting (Estimated) - <span class=time>11:30AM EDT</span> - </div></div>',\n",
       " u'<div class=event><div class=\"bld date\">Apr 19, 2016</div><div>Q1 2016 Intel Corp Earnings Call - <span class=time>5:00PM EDT</span> - </div></div>',\n",
       " u'<div class=event><div class=\"bld date\">Apr 19, 2016</div><div>Q1 2016 Intel Corp Earnings Release - <span class=time>4:00PM EDT</span> - </div></div>',\n",
       " u'<div class=event><div class=\"bld date\">Mar 1, 2016</div><div>Intel Corp at Morgan Stanley Technology, Media &amp; Telecom Conference </div></div>',\n",
       " u'<div class=event><div class=\"bld date\">Feb 22, 2016</div><div>Intel Corp at GSM Association Mobile World Congress </div></div>',\n",
       " u'<div class=event><div class=\"bld date\">Jan 19, 2016</div><div>Intel Corp Webcast Announcing 6th Generation Intel Core vPro Processors - </div></div>',\n",
       " u'<div class=event><div class=\"bld date\">Jan 14, 2016</div><div>Q4 2015 Intel Corp Earnings Call </div></div>',\n",
       " u'<div class=event><div class=\"bld date\">Jan 14, 2016</div><div>Q4 2015 Intel Corp Earnings Release </div></div>',\n",
       " u'<div class=event><div class=\"bld date\">Jan 6, 2016</div><div>Intel Corp at JPMorgan Technology Forum </div></div>']"
      ]
     },
     "execution_count": 29,
     "metadata": {},
     "output_type": "execute_result"
    }
   ],
   "source": [
    "events = [ re.sub(r'\\n', ' ', event, flags) for event in events ]\n",
    "events = [ re.sub(r' +', ' ', event, flags) for event in events ]\n",
    "events = [ re.sub(r'> +<', '><', event, flags) for event in events ]\n",
    "events"
   ]
  },
  {
   "cell_type": "code",
   "execution_count": 30,
   "metadata": {
    "collapsed": false
   },
   "outputs": [
    {
     "data": {
      "text/plain": [
       "[u' May 20, 2016 Intel Corp Annual Shareholders Meeting (Estimated) - 11:30AM EDT - ',\n",
       " u' Apr 19, 2016 Q1 2016 Intel Corp Earnings Call - 5:00PM EDT - ',\n",
       " u' Apr 19, 2016 Q1 2016 Intel Corp Earnings Release - 4:00PM EDT - ',\n",
       " u' Mar 1, 2016 Intel Corp at Morgan Stanley Technology, Media &amp; Telecom Conference ',\n",
       " u' Feb 22, 2016 Intel Corp at GSM Association Mobile World Congress ',\n",
       " u' Jan 19, 2016 Intel Corp Webcast Announcing 6th Generation Intel Core vPro Processors - ',\n",
       " u' Jan 14, 2016 Q4 2015 Intel Corp Earnings Call ',\n",
       " u' Jan 14, 2016 Q4 2015 Intel Corp Earnings Release ',\n",
       " u' Jan 6, 2016 Intel Corp at JPMorgan Technology Forum ']"
      ]
     },
     "execution_count": 30,
     "metadata": {},
     "output_type": "execute_result"
    }
   ],
   "source": [
    "events = [ re.sub(r'<.*?>', ' ', event, flags) for event in events ]\n",
    "events = [ re.sub(r' +', ' ', event, flags) for event in events ]\n",
    "events"
   ]
  },
  {
   "cell_type": "code",
   "execution_count": null,
   "metadata": {
    "collapsed": true
   },
   "outputs": [],
   "source": []
  },
  {
   "cell_type": "code",
   "execution_count": null,
   "metadata": {
    "collapsed": true
   },
   "outputs": [],
   "source": []
  }
 ],
 "metadata": {
  "kernelspec": {
   "display_name": "Python 2",
   "language": "python",
   "name": "python2"
  },
  "language_info": {
   "codemirror_mode": {
    "name": "ipython",
    "version": 2
   },
   "file_extension": ".py",
   "mimetype": "text/x-python",
   "name": "python",
   "nbconvert_exporter": "python",
   "pygments_lexer": "ipython2",
   "version": "2.7.11"
  }
 },
 "nbformat": 4,
 "nbformat_minor": 0
}
