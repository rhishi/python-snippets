{
 "cells": [
  {
   "cell_type": "markdown",
   "metadata": {},
   "source": [
    "# JSON load: str instead of unicode\n",
    "\n",
    "Python's `json` module is the first thing to use when reading/writing JSON in Python."
   ]
  },
  {
   "cell_type": "code",
   "execution_count": 1,
   "metadata": {},
   "outputs": [
    {
     "data": {
      "text/plain": [
       "'[0, 1, true, [4.2, 5.7], {\"name\": \"Jason\"}]'"
      ]
     },
     "execution_count": 1,
     "metadata": {},
     "output_type": "execute_result"
    }
   ],
   "source": [
    "import json\n",
    "json.dumps((0, 1, True, (4.2, 5.7), {'name': 'Jason'}))"
   ]
  },
  {
   "cell_type": "code",
   "execution_count": 2,
   "metadata": {},
   "outputs": [
    {
     "data": {
      "text/plain": [
       "'{\"B\": 178, \"Op\": 95, \"No\": 9}'"
      ]
     },
     "execution_count": 2,
     "metadata": {},
     "output_type": "execute_result"
    }
   ],
   "source": [
    "json.dumps({'No': 9, 'Op': 95, 'B': 178})"
   ]
  },
  {
   "cell_type": "code",
   "execution_count": 3,
   "metadata": {},
   "outputs": [
    {
     "data": {
      "text/plain": [
       "{u'B': 178, u'No': 9, u'Op': 95}"
      ]
     },
     "execution_count": 3,
     "metadata": {},
     "output_type": "execute_result"
    }
   ],
   "source": [
    "json.loads(json.dumps({'No': 9, 'Op': 95, 'B': 178}))"
   ]
  },
  {
   "cell_type": "markdown",
   "metadata": {},
   "source": [
    "You see, JSON load gives you Python `unicode` objects for JSON `string` objects.\n",
    "\n",
    "In Python 3, this wouldn't be an issue, but if you are still stuck with Python 2, you know `str` is different from `unicode`.  What if you know you are working with only ASCII strings, and you would like to continue using `str` everywhere in your code?\n",
    "\n",
    "As such, looks like `str` and `unicode` equate nicely when using only ASCII characters."
   ]
  },
  {
   "cell_type": "code",
   "execution_count": 4,
   "metadata": {},
   "outputs": [],
   "source": [
    "dict1 = {'No': 9, 'Op': 95, 'B': 178}\n",
    "dict2 = json.loads(json.dumps(dict1))"
   ]
  },
  {
   "cell_type": "code",
   "execution_count": 5,
   "metadata": {},
   "outputs": [
    {
     "data": {
      "text/plain": [
       "{'B': 178, 'No': 9, 'Op': 95}"
      ]
     },
     "execution_count": 5,
     "metadata": {},
     "output_type": "execute_result"
    }
   ],
   "source": [
    "dict1"
   ]
  },
  {
   "cell_type": "code",
   "execution_count": 6,
   "metadata": {},
   "outputs": [
    {
     "data": {
      "text/plain": [
       "{u'B': 178, u'No': 9, u'Op': 95}"
      ]
     },
     "execution_count": 6,
     "metadata": {},
     "output_type": "execute_result"
    }
   ],
   "source": [
    "dict2"
   ]
  },
  {
   "cell_type": "code",
   "execution_count": 7,
   "metadata": {},
   "outputs": [
    {
     "data": {
      "text/plain": [
       "True"
      ]
     },
     "execution_count": 7,
     "metadata": {},
     "output_type": "execute_result"
    }
   ],
   "source": [
    "dict1 == dict2"
   ]
  },
  {
   "cell_type": "markdown",
   "metadata": {},
   "source": [
    "StackOverflow to the rescue, as always.  [How to get string objects instead of unicode from JSON](https://stackoverflow.com/questions/956867/how-to-get-string-objects-instead-of-unicode-from-json).  It can't get more to the point than that."
   ]
  },
  {
   "cell_type": "markdown",
   "metadata": {},
   "source": [
    "## My solution\n",
    "\n",
    "Adapted from excellent solutions by Mirec Miskuf and Mark Amery in [How to get string objects instead of unicode from JSON](https://stackoverflow.com/questions/956867/how-to-get-string-objects-instead-of-unicode-from-json)."
   ]
  },
  {
   "cell_type": "code",
   "execution_count": 8,
   "metadata": {},
   "outputs": [],
   "source": [
    "def json_loads_ensure_str(string):\n",
    "    \"\"\"Decodes JSON string to Python object ensuring 'str' not 'unicode'.\n",
    "\n",
    "    The standard json.loads converts JSON string objects to Python unicode\n",
    "    objects.  This simple wrapper around json.loads ensures that the result\n",
    "    contains Python str objects instead of Python unicode objects.\n",
    "\n",
    "    Args:\n",
    "        string: the string containing JSON text.\n",
    "\n",
    "    Returns:\n",
    "        Python object decoded from the JSON string.\n",
    "    \"\"\"\n",
    "    return unicode_to_str(json.loads(string, object_hook=unicode_to_str_object_hook),\n",
    "                          process_dict=False, process_child_dict=False)\n",
    "\n",
    "\n",
    "def json_load_ensure_str(file_object):\n",
    "    \"\"\"Decodes JSON file object to Python object ensuring 'str' not 'unicode'.\n",
    "\n",
    "    The standard json.load converts JSON string objects to Python unicode\n",
    "    objects.  This simple wrapper around json.load ensures that the result\n",
    "    contains Python str objects instead of Python unicode objects.\n",
    "\n",
    "    Args:\n",
    "        file_object: the file-like object containing JSON text.\n",
    "\n",
    "    Returns:\n",
    "        Python object decoded from the JSON file object.\n",
    "    \"\"\"\n",
    "    return unicode_to_str(json.load(file_object, object_hook=unicode_to_str_object_hook),\n",
    "                          process_dict=False, process_child_dict=False)\n",
    "\n",
    "\n",
    "def unicode_to_str_object_hook(dictionary):\n",
    "    \"\"\"Converts unicode to str in a dictionary to serve as JSON object_hook.\"\"\"\n",
    "    return unicode_to_str(dictionary, process_dict=True, process_child_dict=False)\n",
    "\n",
    "\n",
    "def unicode_to_str(obj, process_dict=True, process_child_dict=True):\n",
    "    \"\"\"Converts unicode to str recursively given an object.\n",
    "\n",
    "    Args:\n",
    "        obj: the object to convert.\n",
    "        process_dict: whether to process dictionaries.\n",
    "        process_child_dict: whether to process dictionaries other than the\n",
    "            root-level object itself.\n",
    "\n",
    "    How it behaves on every combination of the two Boolean flags:\n",
    "\n",
    "        False, _    : no dictionaries are processed.\n",
    "        True , True : all dictionaries are processed.\n",
    "        True , False: the root-level dictionary is processed, no lower-level\n",
    "                      dictionaries are processed.\n",
    "\n",
    "    Returns:\n",
    "        New copy of the object with all unicode objects replaced by str objects.\n",
    "    \"\"\"\n",
    "    process_child_dict = process_dict and process_child_dict\n",
    "\n",
    "    if isinstance(obj, unicode):\n",
    "        return obj.encode('utf-8')\n",
    "    if isinstance(obj, list):\n",
    "        return [unicode_to_str(item, process_child_dict, process_child_dict) for item in obj]\n",
    "    if isinstance(obj, tuple):\n",
    "        return (unicode_to_str(item, process_child_dict, process_child_dict) for item in obj)\n",
    "    if process_dict and isinstance(obj, dict):\n",
    "        return {unicode_to_str(key, process_child_dict, process_child_dict)\n",
    "                : unicode_to_str(value, process_child_dict, process_child_dict)\n",
    "                for key, value in obj.iteritems()}\n",
    "    return obj"
   ]
  },
  {
   "cell_type": "markdown",
   "metadata": {},
   "source": [
    "## How I arrived at my solution\n",
    "\n",
    "Here's how I took Mark and Mirec's `byteify` and made my `unicode_to_str`."
   ]
  },
  {
   "cell_type": "code",
   "execution_count": 9,
   "metadata": {},
   "outputs": [],
   "source": [
    "example = [0, 1, 'two', True, [4.2, 5.7, 'six'], {'name': 'Jason'}]"
   ]
  },
  {
   "cell_type": "markdown",
   "metadata": {},
   "source": [
    "Mark Amery's `byteify`."
   ]
  },
  {
   "cell_type": "code",
   "execution_count": 10,
   "metadata": {},
   "outputs": [
    {
     "data": {
      "text/plain": [
       "[0, 1, 'two', True, [4.2, 5.7, 'six'], {'name': 'Jason'}]"
      ]
     },
     "execution_count": 10,
     "metadata": {},
     "output_type": "execute_result"
    }
   ],
   "source": [
    "def byteify(input):\n",
    "    if isinstance(input, dict):\n",
    "        return {byteify(key): byteify(value)\n",
    "                for key, value in input.iteritems()}\n",
    "    elif isinstance(input, list):\n",
    "        return [byteify(element) for element in input]\n",
    "    elif isinstance(input, unicode):\n",
    "        return input.encode('utf-8')\n",
    "    else:\n",
    "        return input\n",
    "\n",
    "\n",
    "def json_loads_byteify(string):\n",
    "    return byteify(json.loads(string))\n",
    "\n",
    "\n",
    "json_loads_byteify(json.dumps(example))"
   ]
  },
  {
   "cell_type": "markdown",
   "metadata": {},
   "source": [
    "Mirec Miskuf's `byteify`, an improvement over Mark Amery's."
   ]
  },
  {
   "cell_type": "code",
   "execution_count": 11,
   "metadata": {},
   "outputs": [
    {
     "data": {
      "text/plain": [
       "[0, 1, 'two', True, [4.2, 5.7, 'six'], {'name': 'Jason'}]"
      ]
     },
     "execution_count": 11,
     "metadata": {},
     "output_type": "execute_result"
    }
   ],
   "source": [
    "def byteify(data, ignore_dicts=False):\n",
    "    if isinstance(data, unicode):\n",
    "        return data.encode('utf-8')\n",
    "    if isinstance(data, list):\n",
    "        return [byteify(item, ignore_dicts=True) for item in data]\n",
    "    if not ignore_dicts and isinstance(data, dict):\n",
    "        return {byteify(key, ignore_dicts=True): byteify(value, ignore_dicts=True)\n",
    "                for key, value in data.iteritems()}\n",
    "    return data\n",
    "\n",
    "\n",
    "def json_loads_byteify(string):\n",
    "    return byteify(json.loads(string, object_hook=byteify),\n",
    "                   ignore_dicts=True)\n",
    "\n",
    "\n",
    "json_loads_byteify(json.dumps(example))"
   ]
  },
  {
   "cell_type": "markdown",
   "metadata": {},
   "source": [
    "That `ignore_dicts` trick is a great bit of logic.  I wanted to understand it by transforming it.\n",
    "\n",
    "First modification: break it into dict and non-dict parts."
   ]
  },
  {
   "cell_type": "code",
   "execution_count": 12,
   "metadata": {},
   "outputs": [
    {
     "data": {
      "text/plain": [
       "[0, 1, 'two', True, [4.2, 5.7, 'six'], {'name': 'Jason'}]"
      ]
     },
     "execution_count": 12,
     "metadata": {},
     "output_type": "execute_result"
    }
   ],
   "source": [
    "def byteify_nondict(value):\n",
    "    if isinstance(value, unicode):\n",
    "        return value.encode('utf-8')\n",
    "    if isinstance(value, list):\n",
    "        return [byteify_nondict(item) for item in value]\n",
    "    return value\n",
    "\n",
    "\n",
    "def byteify_dict(value):\n",
    "    if isinstance(value, dict):\n",
    "        return {byteify_nondict(key): byteify_nondict(value)\n",
    "                for key, value in value.iteritems()}\n",
    "    return value\n",
    "\n",
    "\n",
    "def json_loads_byteify(string):\n",
    "    return byteify_nondict(json.loads(string, object_hook=byteify_dict))\n",
    "\n",
    "\n",
    "json_loads_byteify(json.dumps(example))"
   ]
  },
  {
   "cell_type": "markdown",
   "metadata": {},
   "source": [
    "The two functions are clearer, but well, why have these very specific pairs of functions just for this JSON load purpose.  They have little general use.  Mark Avery's function had a niceity that it worked as a standalone recursive `unicode` to `str` function.\n",
    "\n",
    "To combine all goodness, it dawned upon me that it is about root-level dict and lower-level dicts.  We need two Boolean flags instead of Mirec Miskuf's one."
   ]
  },
  {
   "cell_type": "code",
   "execution_count": 13,
   "metadata": {},
   "outputs": [
    {
     "data": {
      "text/plain": [
       "[0, 1, 'two', True, [4.2, 5.7, 'six'], {'name': 'Jason'}]"
      ]
     },
     "execution_count": 13,
     "metadata": {},
     "output_type": "execute_result"
    }
   ],
   "source": [
    "def unicode_to_str(value, process_dict=True, process_child_dict=True):\n",
    "    if isinstance(value, unicode):\n",
    "        return value.encode('utf-8')\n",
    "    if isinstance(value, list):\n",
    "        return [unicode_to_str(item, process_child_dict, process_child_dict) for item in value]\n",
    "    if isinstance(value, tuple):\n",
    "        return (unicode_to_str(item, process_child_dict, process_child_dict) for item in value)\n",
    "    if process_dict and isinstance(value, dict):\n",
    "        return {unicode_to_str(key, process_child_dict, process_child_dict)\n",
    "                : unicode_to_str(value, process_child_dict, process_child_dict)\n",
    "                for key, value in value.iteritems()}\n",
    "    return value\n",
    "\n",
    "\n",
    "def unicode_to_str_object_hook(dictionary):\n",
    "    return unicode_to_str(dictionary, process_dict=True, process_child_dict=False)\n",
    "\n",
    "\n",
    "def json_loads_unicode_to_str(string):\n",
    "    return unicode_to_str(json.loads(string, object_hook=unicode_to_str_object_hook),\n",
    "                          process_dict=False, process_child_dict=False)\n",
    "\n",
    "\n",
    "json_loads_unicode_to_str(json.dumps(example))"
   ]
  },
  {
   "cell_type": "markdown",
   "metadata": {},
   "source": [
    "The two-flags function behaves like so:\n",
    "\n",
    "1. True, True: all dicts are processed.\n",
    "   Identical to Mark Avery's function.\n",
    "2. False, False: no dicts are processed.\n",
    "   Identical to Mirec Miskuf's function with ignore_dict=True.\n",
    "3. True, False: the root-level dict is processed, no lower-level dicts are processed.\n",
    "   Identical to Mirec Miskuf's function with ignore_dict=False.\n",
    "4. False, True: the root-level dict is not processed, and thus its lower-level dicts are not processed.\n",
    "   otherwise, if the root-level is not a dict, then all lower-level dicts are processed.\n",
    "   This one is a funky mode, best banned from use.\n",
    "\n",
    "It later occurred to me how to avoid case 4.  We say `process_dict` applies to all dictionaries, and thus it is superset of `process_child_dict`, which only applies to non-root-level dictionaries.  So, if the former is false, the latter is automatically false, i.e. its value has no effect.  We can enforce that at the start of the function.  Here's the final solution, same as the one in the \"My solution\" section."
   ]
  },
  {
   "cell_type": "code",
   "execution_count": 14,
   "metadata": {},
   "outputs": [
    {
     "data": {
      "text/plain": [
       "[0, 1, 'two', True, [4.2, 5.7, 'six'], {'name': 'Jason'}]"
      ]
     },
     "execution_count": 14,
     "metadata": {},
     "output_type": "execute_result"
    }
   ],
   "source": [
    "def unicode_to_str(obj, process_dict=True, process_child_dict=True):\n",
    "    process_child_dict = process_dict and process_child_dict\n",
    "    if isinstance(obj, unicode):\n",
    "        return obj.encode('utf-8')\n",
    "    if isinstance(obj, list):\n",
    "        return [unicode_to_str(item, process_child_dict, process_child_dict) for item in obj]\n",
    "    if isinstance(obj, tuple):\n",
    "        return (unicode_to_str(item, process_child_dict, process_child_dict) for item in obj)\n",
    "    if process_dict and isinstance(obj, dict):\n",
    "        return {unicode_to_str(key, process_child_dict, process_child_dict)\n",
    "                : unicode_to_str(value, process_child_dict, process_child_dict)\n",
    "                for key, value in obj.iteritems()}\n",
    "    return obj\n",
    "\n",
    "\n",
    "def unicode_to_str_object_hook(dictionary):\n",
    "    return unicode_to_str(dictionary, process_dict=True, process_child_dict=False)\n",
    "\n",
    "\n",
    "def json_loads_ensure_str(string):\n",
    "    return unicode_to_str(json.loads(string, object_hook=unicode_to_str_object_hook),\n",
    "                          process_dict=False, process_child_dict=False)\n",
    "\n",
    "\n",
    "json_loads_unicode_to_str(json.dumps(example))"
   ]
  }
 ],
 "metadata": {
  "kernelspec": {
   "display_name": "Python 2",
   "language": "python",
   "name": "python2"
  },
  "language_info": {
   "codemirror_mode": {
    "name": "ipython",
    "version": 2
   },
   "file_extension": ".py",
   "mimetype": "text/x-python",
   "name": "python",
   "nbconvert_exporter": "python",
   "pygments_lexer": "ipython2",
   "version": "2.7.15"
  }
 },
 "nbformat": 4,
 "nbformat_minor": 2
}
